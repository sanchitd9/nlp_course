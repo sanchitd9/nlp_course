{
 "cells": [
  {
   "cell_type": "markdown",
   "source": [
    "# Step 1: Importing Libraries\n",
    "The keyword 'library' is used to import an external library into the current environment.\n",
    "Importing a library is simple, use the keyword `import` followed by the library name.\n",
    "Additionally, we can use the `as` keyword to give the library name an alias.\n",
    "\n",
    "Execute the cell below to import the numpy and pandas libraries.\n",
    "Note that we have used `np` and `pd` as the aliases for the libraries to reduce typing effort in subsequent cells."
   ],
   "metadata": {
    "collapsed": false
   }
  },
  {
   "cell_type": "code",
   "execution_count": 2,
   "outputs": [],
   "source": [
    "import numpy as np\n",
    "import pandas as pd"
   ],
   "metadata": {
    "collapsed": false
   }
  },
  {
   "cell_type": "markdown",
   "source": [
    "# Step 2: Creating a Data Frame\n",
    "The pandas library has built-in methods for creating a Data Frame - a tabular representation of data, with rows as observations and columns as attributes.\n",
    "The `DataFrame` method takes multiple arguments.\n",
    "Take the below example for instance, where we have passed 3 parameters:\n",
    "1. The data for the table (generated using the random module from numpy).\n",
    "2. The row names.\n",
    "3. The column names."
   ],
   "metadata": {
    "collapsed": false
   }
  },
  {
   "cell_type": "code",
   "execution_count": 3,
   "outputs": [
    {
     "data": {
      "text/plain": "          W         X         Y         Z\nA  0.756629 -0.634405 -0.748179 -0.125818\nB  1.458180  0.621940  1.145403  0.992552\nC  0.145119 -0.092013  1.216197 -0.019266\nD -0.579019 -0.026032 -1.079916 -0.776493\nE  0.605028 -0.157888 -0.084669  0.967785",
      "text/html": "<div>\n<style scoped>\n    .dataframe tbody tr th:only-of-type {\n        vertical-align: middle;\n    }\n\n    .dataframe tbody tr th {\n        vertical-align: top;\n    }\n\n    .dataframe thead th {\n        text-align: right;\n    }\n</style>\n<table border=\"1\" class=\"dataframe\">\n  <thead>\n    <tr style=\"text-align: right;\">\n      <th></th>\n      <th>W</th>\n      <th>X</th>\n      <th>Y</th>\n      <th>Z</th>\n    </tr>\n  </thead>\n  <tbody>\n    <tr>\n      <th>A</th>\n      <td>0.756629</td>\n      <td>-0.634405</td>\n      <td>-0.748179</td>\n      <td>-0.125818</td>\n    </tr>\n    <tr>\n      <th>B</th>\n      <td>1.458180</td>\n      <td>0.621940</td>\n      <td>1.145403</td>\n      <td>0.992552</td>\n    </tr>\n    <tr>\n      <th>C</th>\n      <td>0.145119</td>\n      <td>-0.092013</td>\n      <td>1.216197</td>\n      <td>-0.019266</td>\n    </tr>\n    <tr>\n      <th>D</th>\n      <td>-0.579019</td>\n      <td>-0.026032</td>\n      <td>-1.079916</td>\n      <td>-0.776493</td>\n    </tr>\n    <tr>\n      <th>E</th>\n      <td>0.605028</td>\n      <td>-0.157888</td>\n      <td>-0.084669</td>\n      <td>0.967785</td>\n    </tr>\n  </tbody>\n</table>\n</div>"
     },
     "execution_count": 3,
     "metadata": {},
     "output_type": "execute_result"
    }
   ],
   "source": [
    "# Creating a data frame\n",
    "df = pd.DataFrame(np.random.randn(5, 4), ['A', 'B', 'C', 'D', 'E'], ['W', 'X', 'Y', 'Z'])\n",
    "df"
   ],
   "metadata": {
    "collapsed": false
   }
  },
  {
   "cell_type": "code",
   "execution_count": 4,
   "outputs": [
    {
     "data": {
      "text/plain": "A    0.756629\nB    1.458180\nC    0.145119\nD   -0.579019\nE    0.605028\nName: W, dtype: float64"
     },
     "execution_count": 4,
     "metadata": {},
     "output_type": "execute_result"
    }
   ],
   "source": [
    "# Grabbing a column\n",
    "df[\"W\"]"
   ],
   "metadata": {
    "collapsed": false
   }
  },
  {
   "cell_type": "code",
   "execution_count": 5,
   "outputs": [
    {
     "data": {
      "text/plain": "pandas.core.series.Series"
     },
     "execution_count": 5,
     "metadata": {},
     "output_type": "execute_result"
    }
   ],
   "source": [
    "# Each column is a panda series\n",
    "type(df[\"W\"])"
   ],
   "metadata": {
    "collapsed": false
   }
  },
  {
   "cell_type": "code",
   "execution_count": 6,
   "outputs": [
    {
     "data": {
      "text/plain": "pandas.core.frame.DataFrame"
     },
     "execution_count": 6,
     "metadata": {},
     "output_type": "execute_result"
    }
   ],
   "source": [
    "type(df)"
   ],
   "metadata": {
    "collapsed": false
   }
  },
  {
   "cell_type": "code",
   "execution_count": 7,
   "outputs": [
    {
     "data": {
      "text/plain": "A    0.756629\nB    1.458180\nC    0.145119\nD   -0.579019\nE    0.605028\nName: W, dtype: float64"
     },
     "execution_count": 7,
     "metadata": {},
     "output_type": "execute_result"
    }
   ],
   "source": [
    "df.W"
   ],
   "metadata": {
    "collapsed": false
   }
  },
  {
   "cell_type": "code",
   "execution_count": 8,
   "outputs": [
    {
     "data": {
      "text/plain": "          W         Z\nA  0.756629 -0.125818\nB  1.458180  0.992552\nC  0.145119 -0.019266\nD -0.579019 -0.776493\nE  0.605028  0.967785",
      "text/html": "<div>\n<style scoped>\n    .dataframe tbody tr th:only-of-type {\n        vertical-align: middle;\n    }\n\n    .dataframe tbody tr th {\n        vertical-align: top;\n    }\n\n    .dataframe thead th {\n        text-align: right;\n    }\n</style>\n<table border=\"1\" class=\"dataframe\">\n  <thead>\n    <tr style=\"text-align: right;\">\n      <th></th>\n      <th>W</th>\n      <th>Z</th>\n    </tr>\n  </thead>\n  <tbody>\n    <tr>\n      <th>A</th>\n      <td>0.756629</td>\n      <td>-0.125818</td>\n    </tr>\n    <tr>\n      <th>B</th>\n      <td>1.458180</td>\n      <td>0.992552</td>\n    </tr>\n    <tr>\n      <th>C</th>\n      <td>0.145119</td>\n      <td>-0.019266</td>\n    </tr>\n    <tr>\n      <th>D</th>\n      <td>-0.579019</td>\n      <td>-0.776493</td>\n    </tr>\n    <tr>\n      <th>E</th>\n      <td>0.605028</td>\n      <td>0.967785</td>\n    </tr>\n  </tbody>\n</table>\n</div>"
     },
     "execution_count": 8,
     "metadata": {},
     "output_type": "execute_result"
    }
   ],
   "source": [
    "df[[\"W\", \"Z\"]]"
   ],
   "metadata": {
    "collapsed": false
   }
  },
  {
   "cell_type": "code",
   "execution_count": 9,
   "outputs": [],
   "source": [
    "df[\"new\"] = df[\"W\"] + df[\"Y\"]"
   ],
   "metadata": {
    "collapsed": false
   }
  },
  {
   "cell_type": "code",
   "execution_count": 10,
   "outputs": [
    {
     "data": {
      "text/plain": "          W         X         Y         Z       new\nA  0.756629 -0.634405 -0.748179 -0.125818  0.008450\nB  1.458180  0.621940  1.145403  0.992552  2.603583\nC  0.145119 -0.092013  1.216197 -0.019266  1.361316\nD -0.579019 -0.026032 -1.079916 -0.776493 -1.658935\nE  0.605028 -0.157888 -0.084669  0.967785  0.520360",
      "text/html": "<div>\n<style scoped>\n    .dataframe tbody tr th:only-of-type {\n        vertical-align: middle;\n    }\n\n    .dataframe tbody tr th {\n        vertical-align: top;\n    }\n\n    .dataframe thead th {\n        text-align: right;\n    }\n</style>\n<table border=\"1\" class=\"dataframe\">\n  <thead>\n    <tr style=\"text-align: right;\">\n      <th></th>\n      <th>W</th>\n      <th>X</th>\n      <th>Y</th>\n      <th>Z</th>\n      <th>new</th>\n    </tr>\n  </thead>\n  <tbody>\n    <tr>\n      <th>A</th>\n      <td>0.756629</td>\n      <td>-0.634405</td>\n      <td>-0.748179</td>\n      <td>-0.125818</td>\n      <td>0.008450</td>\n    </tr>\n    <tr>\n      <th>B</th>\n      <td>1.458180</td>\n      <td>0.621940</td>\n      <td>1.145403</td>\n      <td>0.992552</td>\n      <td>2.603583</td>\n    </tr>\n    <tr>\n      <th>C</th>\n      <td>0.145119</td>\n      <td>-0.092013</td>\n      <td>1.216197</td>\n      <td>-0.019266</td>\n      <td>1.361316</td>\n    </tr>\n    <tr>\n      <th>D</th>\n      <td>-0.579019</td>\n      <td>-0.026032</td>\n      <td>-1.079916</td>\n      <td>-0.776493</td>\n      <td>-1.658935</td>\n    </tr>\n    <tr>\n      <th>E</th>\n      <td>0.605028</td>\n      <td>-0.157888</td>\n      <td>-0.084669</td>\n      <td>0.967785</td>\n      <td>0.520360</td>\n    </tr>\n  </tbody>\n</table>\n</div>"
     },
     "execution_count": 10,
     "metadata": {},
     "output_type": "execute_result"
    }
   ],
   "source": [
    "df"
   ],
   "metadata": {
    "collapsed": false
   }
  },
  {
   "cell_type": "code",
   "execution_count": 11,
   "outputs": [],
   "source": [
    "df.drop(\"new\", axis=1, inplace=True)"
   ],
   "metadata": {
    "collapsed": false
   }
  },
  {
   "cell_type": "code",
   "execution_count": 12,
   "outputs": [
    {
     "data": {
      "text/plain": "          W         X         Y         Z\nA  0.756629 -0.634405 -0.748179 -0.125818\nB  1.458180  0.621940  1.145403  0.992552\nC  0.145119 -0.092013  1.216197 -0.019266\nD -0.579019 -0.026032 -1.079916 -0.776493\nE  0.605028 -0.157888 -0.084669  0.967785",
      "text/html": "<div>\n<style scoped>\n    .dataframe tbody tr th:only-of-type {\n        vertical-align: middle;\n    }\n\n    .dataframe tbody tr th {\n        vertical-align: top;\n    }\n\n    .dataframe thead th {\n        text-align: right;\n    }\n</style>\n<table border=\"1\" class=\"dataframe\">\n  <thead>\n    <tr style=\"text-align: right;\">\n      <th></th>\n      <th>W</th>\n      <th>X</th>\n      <th>Y</th>\n      <th>Z</th>\n    </tr>\n  </thead>\n  <tbody>\n    <tr>\n      <th>A</th>\n      <td>0.756629</td>\n      <td>-0.634405</td>\n      <td>-0.748179</td>\n      <td>-0.125818</td>\n    </tr>\n    <tr>\n      <th>B</th>\n      <td>1.458180</td>\n      <td>0.621940</td>\n      <td>1.145403</td>\n      <td>0.992552</td>\n    </tr>\n    <tr>\n      <th>C</th>\n      <td>0.145119</td>\n      <td>-0.092013</td>\n      <td>1.216197</td>\n      <td>-0.019266</td>\n    </tr>\n    <tr>\n      <th>D</th>\n      <td>-0.579019</td>\n      <td>-0.026032</td>\n      <td>-1.079916</td>\n      <td>-0.776493</td>\n    </tr>\n    <tr>\n      <th>E</th>\n      <td>0.605028</td>\n      <td>-0.157888</td>\n      <td>-0.084669</td>\n      <td>0.967785</td>\n    </tr>\n  </tbody>\n</table>\n</div>"
     },
     "execution_count": 12,
     "metadata": {},
     "output_type": "execute_result"
    }
   ],
   "source": [
    "df"
   ],
   "metadata": {
    "collapsed": false
   }
  },
  {
   "cell_type": "code",
   "execution_count": 13,
   "outputs": [],
   "source": [
    "df.drop(\"E\", inplace=True)"
   ],
   "metadata": {
    "collapsed": false
   }
  },
  {
   "cell_type": "code",
   "execution_count": 14,
   "outputs": [
    {
     "data": {
      "text/plain": "          W         X         Y         Z\nA  0.756629 -0.634405 -0.748179 -0.125818\nB  1.458180  0.621940  1.145403  0.992552\nC  0.145119 -0.092013  1.216197 -0.019266\nD -0.579019 -0.026032 -1.079916 -0.776493",
      "text/html": "<div>\n<style scoped>\n    .dataframe tbody tr th:only-of-type {\n        vertical-align: middle;\n    }\n\n    .dataframe tbody tr th {\n        vertical-align: top;\n    }\n\n    .dataframe thead th {\n        text-align: right;\n    }\n</style>\n<table border=\"1\" class=\"dataframe\">\n  <thead>\n    <tr style=\"text-align: right;\">\n      <th></th>\n      <th>W</th>\n      <th>X</th>\n      <th>Y</th>\n      <th>Z</th>\n    </tr>\n  </thead>\n  <tbody>\n    <tr>\n      <th>A</th>\n      <td>0.756629</td>\n      <td>-0.634405</td>\n      <td>-0.748179</td>\n      <td>-0.125818</td>\n    </tr>\n    <tr>\n      <th>B</th>\n      <td>1.458180</td>\n      <td>0.621940</td>\n      <td>1.145403</td>\n      <td>0.992552</td>\n    </tr>\n    <tr>\n      <th>C</th>\n      <td>0.145119</td>\n      <td>-0.092013</td>\n      <td>1.216197</td>\n      <td>-0.019266</td>\n    </tr>\n    <tr>\n      <th>D</th>\n      <td>-0.579019</td>\n      <td>-0.026032</td>\n      <td>-1.079916</td>\n      <td>-0.776493</td>\n    </tr>\n  </tbody>\n</table>\n</div>"
     },
     "execution_count": 14,
     "metadata": {},
     "output_type": "execute_result"
    }
   ],
   "source": [
    "df"
   ],
   "metadata": {
    "collapsed": false
   }
  },
  {
   "cell_type": "code",
   "execution_count": 15,
   "outputs": [
    {
     "data": {
      "text/plain": "(4, 4)"
     },
     "execution_count": 15,
     "metadata": {},
     "output_type": "execute_result"
    }
   ],
   "source": [
    "df.shape"
   ],
   "metadata": {
    "collapsed": false
   }
  },
  {
   "cell_type": "code",
   "execution_count": 16,
   "outputs": [
    {
     "data": {
      "text/plain": "          W         X         Y         Z\nA  0.756629 -0.634405 -0.748179 -0.125818\nB  1.458180  0.621940  1.145403  0.992552\nC  0.145119 -0.092013  1.216197 -0.019266\nD -0.579019 -0.026032 -1.079916 -0.776493",
      "text/html": "<div>\n<style scoped>\n    .dataframe tbody tr th:only-of-type {\n        vertical-align: middle;\n    }\n\n    .dataframe tbody tr th {\n        vertical-align: top;\n    }\n\n    .dataframe thead th {\n        text-align: right;\n    }\n</style>\n<table border=\"1\" class=\"dataframe\">\n  <thead>\n    <tr style=\"text-align: right;\">\n      <th></th>\n      <th>W</th>\n      <th>X</th>\n      <th>Y</th>\n      <th>Z</th>\n    </tr>\n  </thead>\n  <tbody>\n    <tr>\n      <th>A</th>\n      <td>0.756629</td>\n      <td>-0.634405</td>\n      <td>-0.748179</td>\n      <td>-0.125818</td>\n    </tr>\n    <tr>\n      <th>B</th>\n      <td>1.458180</td>\n      <td>0.621940</td>\n      <td>1.145403</td>\n      <td>0.992552</td>\n    </tr>\n    <tr>\n      <th>C</th>\n      <td>0.145119</td>\n      <td>-0.092013</td>\n      <td>1.216197</td>\n      <td>-0.019266</td>\n    </tr>\n    <tr>\n      <th>D</th>\n      <td>-0.579019</td>\n      <td>-0.026032</td>\n      <td>-1.079916</td>\n      <td>-0.776493</td>\n    </tr>\n  </tbody>\n</table>\n</div>"
     },
     "execution_count": 16,
     "metadata": {},
     "output_type": "execute_result"
    }
   ],
   "source": [
    "df"
   ],
   "metadata": {
    "collapsed": false
   }
  },
  {
   "cell_type": "code",
   "execution_count": 17,
   "outputs": [
    {
     "data": {
      "text/plain": "W    0.756629\nX   -0.634405\nY   -0.748179\nZ   -0.125818\nName: A, dtype: float64"
     },
     "execution_count": 17,
     "metadata": {},
     "output_type": "execute_result"
    }
   ],
   "source": [
    "df.loc[\"A\"]"
   ],
   "metadata": {
    "collapsed": false
   }
  },
  {
   "cell_type": "code",
   "execution_count": 18,
   "outputs": [
    {
     "data": {
      "text/plain": "W    0.145119\nX   -0.092013\nY    1.216197\nZ   -0.019266\nName: C, dtype: float64"
     },
     "execution_count": 18,
     "metadata": {},
     "output_type": "execute_result"
    }
   ],
   "source": [
    "df.iloc[2]"
   ],
   "metadata": {
    "collapsed": false
   }
  },
  {
   "cell_type": "code",
   "execution_count": 19,
   "outputs": [
    {
     "data": {
      "text/plain": "1.145403095735577"
     },
     "execution_count": 19,
     "metadata": {},
     "output_type": "execute_result"
    }
   ],
   "source": [
    "df.loc[\"B\",\"Y\"]"
   ],
   "metadata": {
    "collapsed": false
   }
  },
  {
   "cell_type": "code",
   "execution_count": 20,
   "outputs": [
    {
     "data": {
      "text/plain": "          W         Y\nA  0.756629 -0.748179\nB  1.458180  1.145403",
      "text/html": "<div>\n<style scoped>\n    .dataframe tbody tr th:only-of-type {\n        vertical-align: middle;\n    }\n\n    .dataframe tbody tr th {\n        vertical-align: top;\n    }\n\n    .dataframe thead th {\n        text-align: right;\n    }\n</style>\n<table border=\"1\" class=\"dataframe\">\n  <thead>\n    <tr style=\"text-align: right;\">\n      <th></th>\n      <th>W</th>\n      <th>Y</th>\n    </tr>\n  </thead>\n  <tbody>\n    <tr>\n      <th>A</th>\n      <td>0.756629</td>\n      <td>-0.748179</td>\n    </tr>\n    <tr>\n      <th>B</th>\n      <td>1.458180</td>\n      <td>1.145403</td>\n    </tr>\n  </tbody>\n</table>\n</div>"
     },
     "execution_count": 20,
     "metadata": {},
     "output_type": "execute_result"
    }
   ],
   "source": [],
   "metadata": {
    "collapsed": false
   }
  },
  {
   "cell_type": "code",
   "execution_count": 22,
   "outputs": [
    {
     "data": {
      "text/plain": "          W         Y\nA  0.756629 -0.748179\nB  1.458180  1.145403",
      "text/html": "<div>\n<style scoped>\n    .dataframe tbody tr th:only-of-type {\n        vertical-align: middle;\n    }\n\n    .dataframe tbody tr th {\n        vertical-align: top;\n    }\n\n    .dataframe thead th {\n        text-align: right;\n    }\n</style>\n<table border=\"1\" class=\"dataframe\">\n  <thead>\n    <tr style=\"text-align: right;\">\n      <th></th>\n      <th>W</th>\n      <th>Y</th>\n    </tr>\n  </thead>\n  <tbody>\n    <tr>\n      <th>A</th>\n      <td>0.756629</td>\n      <td>-0.748179</td>\n    </tr>\n    <tr>\n      <th>B</th>\n      <td>1.458180</td>\n      <td>1.145403</td>\n    </tr>\n  </tbody>\n</table>\n</div>"
     },
     "execution_count": 22,
     "metadata": {},
     "output_type": "execute_result"
    }
   ],
   "source": [
    "df.loc[[\"A\", \"B\"], [\"W\", \"Y\"]]"
   ],
   "metadata": {
    "collapsed": false
   }
  },
  {
   "cell_type": "code",
   "execution_count": null,
   "outputs": [],
   "source": [],
   "metadata": {
    "collapsed": false
   }
  }
 ],
 "metadata": {
  "kernelspec": {
   "display_name": "Python 3",
   "language": "python",
   "name": "python3"
  },
  "language_info": {
   "codemirror_mode": {
    "name": "ipython",
    "version": 2
   },
   "file_extension": ".py",
   "mimetype": "text/x-python",
   "name": "python",
   "nbconvert_exporter": "python",
   "pygments_lexer": "ipython2",
   "version": "2.7.6"
  }
 },
 "nbformat": 4,
 "nbformat_minor": 0
}
