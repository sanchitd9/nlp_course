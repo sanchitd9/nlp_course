{
 "cells": [
  {
   "cell_type": "markdown",
   "id": "c7926730",
   "metadata": {},
   "source": [
    "# Introduction to Machine Learning: Logistic Regression and Naive Bayes\n",
    "\n",
    "In this lesson, students will be introduced to the following concepts:\n",
    "- Basics of Machine Learning,\n",
    "- A simple pipeline of a typical machine learning project,\n",
    "- A guided tour through a small sentence classification task that will incorporate:\n",
    "    - NLTK Text Preprocessing\n",
    "    - Logistic Regression\n",
    "    - Naive Bayes\n",
    "\n",
    "## What is Machine Learning?\n",
    "\n",
    "\n",
    "Machine learning is a branch of artificial intelligence that involves building algorithms and statistical models that allow computers to learn from and make predictions or decisions based on data. The idea is to enable computers to identify patterns and relationships in data, and then use that knowledge to make predictions or decisions about new data. These algorithms can assist in processing and analyzing endless amounts of data that would normally be impossible to comprehend by human minds.\n",
    "\n",
    "Machine learning is a rapidly growing field with a wide range of applications, including:\n",
    "- image recognition\n",
    "- natural language processing\n",
    "- speech recognition\n",
    "- recommendation systems\n",
    "- Stock Price prediction\n",
    "- Object detection systems\n",
    "\n",
    "There are three primary types of machine learning algorithms:\n",
    "- **Supervised learning**: The model is trained on data that is labelled i.e. each sample being categorized, before being made to predict unseen data. Supervised learning can be further divided into two types of prediction tasks:\n",
    "    - <i>Classification</i>: The model is made to put each sample under one or more specific class labels, with the output being discrete. Eg: Student grade prediction, emotion recognition, semantic analysis, etc. Classification tasks can be of **Binary (classifying from two labels), or Multi-classification (classifying from multiple labels)**.\n",
    "    - <i>Regression</i>: The model needs to predict a continuous output. Eg: Temperature, stock market prices, etc.\n",
    "- **Unsupervised learning**: Unlabelled data is used to train the model, forcing it to self-extract patterns before prediction of unseen data.\n",
    "- **Reinforcement learning**: During the process of training the data, a 'points' system is implemented wherein the model is rewarded for making correct predictions and penalized for incorrect ones.\n",
    "\n",
    "Machine learning has the potential to transform industries and change the way we live and work. With it being an integral aspect of Natural Language Processing, it is important to become familiar with the fundamentals of machine learning in order to grasp future concepts that will be taught in this course.\n",
    "\n",
    "For now, this lesson will not only serve as a guide to a basic procedure for preparing machine learning data, but also as an introduction to two popular supervised learning algorithms: \n",
    "- **Logistic Regression**\n",
    "- **Naive Bayes**"
   ]
  },
  {
   "cell_type": "markdown",
   "id": "90edd560",
   "metadata": {},
   "source": [
    "## The Basic Pipeline of a Machine Learning Project\n",
    "\n",
    "For any machine learning task, a model needs to be familiarized, or **trained** with the type of information it is being made to predict, hence requiring a substantial amount of data. Data exists in numerous forms, from videos and images to tables and audio clips. One cannot directly take this raw, unprocessed information and 'stuff' it into the model, expecting it to train like magic. This is where **data preprocessing** comes into play, in which information is cleaned, re-arranged, and converted for the model to easily read and train on without much noise/bias. These aforementioned concepts will be discussed further into this lesson.\n",
    "\n",
    "A typical pipeline of a machine learning model involves:\n",
    "1. Determining whether the task involves classification or regression, and collecting data based on the problem.\n",
    "2. Data preprocessing: data cleaning, text preprocessing, omitting irrelevant information, format conversion, etc.\n",
    "3. Determining the portions of data that will be used for:\n",
    "    - **TRAINING**: The data samples that are fed to the model to familiarize itself with the type of problem and patterns it is expected to identify.\n",
    "    - **VALIDATION**: (optional but highly recommended) During the training process, the model can be made to predict samples belonging to a 'validation' set, in order to evaluate the prediction performance and check room for improvement.\n",
    "    - **TESTING**: The portion of data that is not known at all by the model, and will be used as the final measure of performance after the training/validation process is complete.\n",
    "4. Tuning hyperparameters/settings of the machine learning algorithms,\n",
    "5. Training and testing the models\n",
    "6. Evaluation; if performance needs to be improved, repeat steps 1 to 3."
   ]
  },
  {
   "cell_type": "markdown",
   "id": "243a0cfc",
   "metadata": {},
   "source": [
    "## I. Our First NLP Task: Sentiment Analysis\n",
    "\n",
    "Sentiment analysis is the process of using natural language processing to extract subjective information from text/speech information. The goal of sentiment analysis is to determine the attitude, emotion, or opinion expressed in a piece of text, such as a social media post, customer review, or news article. \n",
    "\n",
    "Sentiment analysis algorithms typically use machine learning or deep learning techniques to analyze the text, which can involve identifying specific words, phrases, or patterns that are associated with positive, negative, or neutral sentiment. The output of sentiment analysis is often a numerical score or label that reflects the sentiment of the text, ranging from very negative to very positive, or neutral. \n",
    "\n",
    "Sentiment analysis is useful in a variety of applications, including market research, brand management, customer service, and political analysis, among others. It can provide valuable insights into public opinion, consumer behavior, and other trends, and can be used to inform decision-making and strategy development.\n",
    "\n",
    "In this section, we will be using a dataset containing Amazon reviews for training 2 models and trying to predict the sentiment of each review, making this task a **SENTENCE CLASSIFICATION** problem. "
   ]
  },
  {
   "cell_type": "markdown",
   "id": "e0d0db57",
   "metadata": {},
   "source": [
    "### 1. Importing Libraries\n",
    "\n",
    "For our classification task, the following libraries will be utilized:\n",
    " - **pandas**: For dataset manipulation\n",
    " - **re**: REGEX tool for text preprocessing\n",
    " - **NLTK**: A vast library containing tools for text preprocessing, language modelling, vectorization, and tokenization.\n",
    " - **sklearn**: A machine learning library that consists of dozens of algorithms to experiment with, including Naive Bayes and Logistic Regression\n",
    " - **numpy**: An array manipulation library, consisting of tools for performing various array operations"
   ]
  },
  {
   "cell_type": "code",
   "execution_count": 164,
   "id": "d1ba0592",
   "metadata": {},
   "outputs": [],
   "source": [
    "### Importing Libraries\n",
    "import warnings\n",
    "warnings.filterwarnings(\"ignore\")\n",
    "import pandas as pd\n",
    "import re\n",
    "import nltk\n",
    "import sklearn\n",
    "from sklearn.linear_model import LogisticRegression\n",
    "from sklearn.naive_bayes import GaussianNB\n",
    "from sklearn.metrics import confusion_matrix, ConfusionMatrixDisplay, accuracy_score, precision_score\n",
    "import seaborn as sns\n",
    "import numpy as np"
   ]
  },
  {
   "cell_type": "markdown",
   "id": "15cb26bd",
   "metadata": {},
   "source": [
    "### 2. Loading the Amazon Reviews Sentiment Dataset\n",
    "**Source**: https://www.kaggle.com/datasets/tarkkaanko/amazon\n",
    "#### Dataset Information:\n",
    "- A dataset containing about 4900 customer reviews for products bought through Amazon, with a rating assigned to each of them. Other features concerning the username, time of rating, population stats, etc. are also present.\n",
    "\n",
    "- The dataset seems to be in a csv format, so we use pandas's **read_csv()** function to read the file."
   ]
  },
  {
   "cell_type": "code",
   "execution_count": 133,
   "id": "6781b531",
   "metadata": {},
   "outputs": [
    {
     "data": {
      "text/html": [
       "<div>\n",
       "<style scoped>\n",
       "    .dataframe tbody tr th:only-of-type {\n",
       "        vertical-align: middle;\n",
       "    }\n",
       "\n",
       "    .dataframe tbody tr th {\n",
       "        vertical-align: top;\n",
       "    }\n",
       "\n",
       "    .dataframe thead th {\n",
       "        text-align: right;\n",
       "    }\n",
       "</style>\n",
       "<table border=\"1\" class=\"dataframe\">\n",
       "  <thead>\n",
       "    <tr style=\"text-align: right;\">\n",
       "      <th></th>\n",
       "      <th>Unnamed: 0</th>\n",
       "      <th>reviewerName</th>\n",
       "      <th>overall</th>\n",
       "      <th>reviewText</th>\n",
       "      <th>reviewTime</th>\n",
       "      <th>day_diff</th>\n",
       "      <th>helpful_yes</th>\n",
       "      <th>helpful_no</th>\n",
       "      <th>total_vote</th>\n",
       "      <th>score_pos_neg_diff</th>\n",
       "      <th>score_average_rating</th>\n",
       "      <th>wilson_lower_bound</th>\n",
       "    </tr>\n",
       "  </thead>\n",
       "  <tbody>\n",
       "    <tr>\n",
       "      <th>0</th>\n",
       "      <td>0</td>\n",
       "      <td>NaN</td>\n",
       "      <td>4.0</td>\n",
       "      <td>No issues.</td>\n",
       "      <td>2014-07-23</td>\n",
       "      <td>138</td>\n",
       "      <td>0</td>\n",
       "      <td>0</td>\n",
       "      <td>0</td>\n",
       "      <td>0</td>\n",
       "      <td>0.0</td>\n",
       "      <td>0.0</td>\n",
       "    </tr>\n",
       "    <tr>\n",
       "      <th>1</th>\n",
       "      <td>1</td>\n",
       "      <td>0mie</td>\n",
       "      <td>5.0</td>\n",
       "      <td>Purchased this for my device, it worked as adv...</td>\n",
       "      <td>2013-10-25</td>\n",
       "      <td>409</td>\n",
       "      <td>0</td>\n",
       "      <td>0</td>\n",
       "      <td>0</td>\n",
       "      <td>0</td>\n",
       "      <td>0.0</td>\n",
       "      <td>0.0</td>\n",
       "    </tr>\n",
       "    <tr>\n",
       "      <th>2</th>\n",
       "      <td>2</td>\n",
       "      <td>1K3</td>\n",
       "      <td>4.0</td>\n",
       "      <td>it works as expected. I should have sprung for...</td>\n",
       "      <td>2012-12-23</td>\n",
       "      <td>715</td>\n",
       "      <td>0</td>\n",
       "      <td>0</td>\n",
       "      <td>0</td>\n",
       "      <td>0</td>\n",
       "      <td>0.0</td>\n",
       "      <td>0.0</td>\n",
       "    </tr>\n",
       "    <tr>\n",
       "      <th>3</th>\n",
       "      <td>3</td>\n",
       "      <td>1m2</td>\n",
       "      <td>5.0</td>\n",
       "      <td>This think has worked out great.Had a diff. br...</td>\n",
       "      <td>2013-11-21</td>\n",
       "      <td>382</td>\n",
       "      <td>0</td>\n",
       "      <td>0</td>\n",
       "      <td>0</td>\n",
       "      <td>0</td>\n",
       "      <td>0.0</td>\n",
       "      <td>0.0</td>\n",
       "    </tr>\n",
       "    <tr>\n",
       "      <th>4</th>\n",
       "      <td>4</td>\n",
       "      <td>2&amp;amp;1/2Men</td>\n",
       "      <td>5.0</td>\n",
       "      <td>Bought it with Retail Packaging, arrived legit...</td>\n",
       "      <td>2013-07-13</td>\n",
       "      <td>513</td>\n",
       "      <td>0</td>\n",
       "      <td>0</td>\n",
       "      <td>0</td>\n",
       "      <td>0</td>\n",
       "      <td>0.0</td>\n",
       "      <td>0.0</td>\n",
       "    </tr>\n",
       "  </tbody>\n",
       "</table>\n",
       "</div>"
      ],
      "text/plain": [
       "   Unnamed: 0  reviewerName  overall  \\\n",
       "0           0           NaN      4.0   \n",
       "1           1          0mie      5.0   \n",
       "2           2           1K3      4.0   \n",
       "3           3           1m2      5.0   \n",
       "4           4  2&amp;1/2Men      5.0   \n",
       "\n",
       "                                          reviewText  reviewTime  day_diff  \\\n",
       "0                                         No issues.  2014-07-23       138   \n",
       "1  Purchased this for my device, it worked as adv...  2013-10-25       409   \n",
       "2  it works as expected. I should have sprung for...  2012-12-23       715   \n",
       "3  This think has worked out great.Had a diff. br...  2013-11-21       382   \n",
       "4  Bought it with Retail Packaging, arrived legit...  2013-07-13       513   \n",
       "\n",
       "   helpful_yes  helpful_no  total_vote  score_pos_neg_diff  \\\n",
       "0            0           0           0                   0   \n",
       "1            0           0           0                   0   \n",
       "2            0           0           0                   0   \n",
       "3            0           0           0                   0   \n",
       "4            0           0           0                   0   \n",
       "\n",
       "   score_average_rating  wilson_lower_bound  \n",
       "0                   0.0                 0.0  \n",
       "1                   0.0                 0.0  \n",
       "2                   0.0                 0.0  \n",
       "3                   0.0                 0.0  \n",
       "4                   0.0                 0.0  "
      ]
     },
     "execution_count": 133,
     "metadata": {},
     "output_type": "execute_result"
    }
   ],
   "source": [
    "df = pd.read_csv('amazon_reviews.csv')\n",
    "### Viewing the first 5 rows of the dataset to get a bettere look at it.\n",
    "df.head(5)"
   ]
  },
  {
   "cell_type": "markdown",
   "id": "10d0d8f7",
   "metadata": {},
   "source": [
    "We can view the dimensions of the dataset through the **shape** call.\n",
    "- The first number in the output represents the number of rows, followed by the number of columns."
   ]
  },
  {
   "cell_type": "code",
   "execution_count": 134,
   "id": "860455e6",
   "metadata": {},
   "outputs": [
    {
     "data": {
      "text/plain": [
       "(4915, 12)"
      ]
     },
     "execution_count": 134,
     "metadata": {},
     "output_type": "execute_result"
    }
   ],
   "source": [
    "df.shape"
   ]
  },
  {
   "cell_type": "markdown",
   "id": "445fcd9a",
   "metadata": {},
   "source": [
    "### 3. Removing irrelevant data columns and empty rows\n",
    "From the cell above, we get to know that the dataset contains 4915 review samples, and 12 features. \n",
    "\n",
    "- For this task, we are only interested in the 'overall' (which is the overall product rating), and 'reviewText' features.\n",
    "- Let's slice the dataset through **df.loc** call, putting our focus only on the two aforementioned columns. We can also use the **df.drop** call to specify column names to eliminate."
   ]
  },
  {
   "cell_type": "code",
   "execution_count": 141,
   "id": "a2e08f65",
   "metadata": {},
   "outputs": [],
   "source": [
    "df_refined = df.loc[:,'overall':'reviewText']\n",
    "df_refined = df_refined.dropna()\n",
    "df_refined = df_refined.reset_index()\n",
    "df_refined = df_refined.loc[:,'overall':'reviewText']"
   ]
  },
  {
   "cell_type": "code",
   "execution_count": 142,
   "id": "92c9d809",
   "metadata": {},
   "outputs": [
    {
     "data": {
      "text/html": [
       "<div>\n",
       "<style scoped>\n",
       "    .dataframe tbody tr th:only-of-type {\n",
       "        vertical-align: middle;\n",
       "    }\n",
       "\n",
       "    .dataframe tbody tr th {\n",
       "        vertical-align: top;\n",
       "    }\n",
       "\n",
       "    .dataframe thead th {\n",
       "        text-align: right;\n",
       "    }\n",
       "</style>\n",
       "<table border=\"1\" class=\"dataframe\">\n",
       "  <thead>\n",
       "    <tr style=\"text-align: right;\">\n",
       "      <th></th>\n",
       "      <th>overall</th>\n",
       "      <th>reviewText</th>\n",
       "    </tr>\n",
       "  </thead>\n",
       "  <tbody>\n",
       "    <tr>\n",
       "      <th>0</th>\n",
       "      <td>4.0</td>\n",
       "      <td>No issues.</td>\n",
       "    </tr>\n",
       "    <tr>\n",
       "      <th>1</th>\n",
       "      <td>5.0</td>\n",
       "      <td>Purchased this for my device, it worked as adv...</td>\n",
       "    </tr>\n",
       "    <tr>\n",
       "      <th>2</th>\n",
       "      <td>4.0</td>\n",
       "      <td>it works as expected. I should have sprung for...</td>\n",
       "    </tr>\n",
       "    <tr>\n",
       "      <th>3</th>\n",
       "      <td>5.0</td>\n",
       "      <td>This think has worked out great.Had a diff. br...</td>\n",
       "    </tr>\n",
       "    <tr>\n",
       "      <th>4</th>\n",
       "      <td>5.0</td>\n",
       "      <td>Bought it with Retail Packaging, arrived legit...</td>\n",
       "    </tr>\n",
       "    <tr>\n",
       "      <th>5</th>\n",
       "      <td>5.0</td>\n",
       "      <td>It's mini storage.  It doesn't do anything els...</td>\n",
       "    </tr>\n",
       "    <tr>\n",
       "      <th>6</th>\n",
       "      <td>5.0</td>\n",
       "      <td>I have it in my phone and it never skips a bea...</td>\n",
       "    </tr>\n",
       "    <tr>\n",
       "      <th>7</th>\n",
       "      <td>5.0</td>\n",
       "      <td>It's hard to believe how affordable digital ha...</td>\n",
       "    </tr>\n",
       "    <tr>\n",
       "      <th>8</th>\n",
       "      <td>5.0</td>\n",
       "      <td>Works in a HTC Rezound.  Was running short of ...</td>\n",
       "    </tr>\n",
       "    <tr>\n",
       "      <th>9</th>\n",
       "      <td>5.0</td>\n",
       "      <td>in my galaxy s4, super fast card, and am total...</td>\n",
       "    </tr>\n",
       "  </tbody>\n",
       "</table>\n",
       "</div>"
      ],
      "text/plain": [
       "   overall                                         reviewText\n",
       "0      4.0                                         No issues.\n",
       "1      5.0  Purchased this for my device, it worked as adv...\n",
       "2      4.0  it works as expected. I should have sprung for...\n",
       "3      5.0  This think has worked out great.Had a diff. br...\n",
       "4      5.0  Bought it with Retail Packaging, arrived legit...\n",
       "5      5.0  It's mini storage.  It doesn't do anything els...\n",
       "6      5.0  I have it in my phone and it never skips a bea...\n",
       "7      5.0  It's hard to believe how affordable digital ha...\n",
       "8      5.0  Works in a HTC Rezound.  Was running short of ...\n",
       "9      5.0  in my galaxy s4, super fast card, and am total..."
      ]
     },
     "execution_count": 142,
     "metadata": {},
     "output_type": "execute_result"
    }
   ],
   "source": [
    "### Viewing the sliced Dataset we will be working on:\n",
    "df_refined.head(10)"
   ]
  },
  {
   "cell_type": "markdown",
   "id": "9dad7ea6",
   "metadata": {},
   "source": [
    "### Exploratory Data Analysis\n",
    "\n",
    "To gain a better frame of understanding of the information you are dealing with, it is important to perform analysis on the dataset. If one would like to take a look at the amount of products associated with each rating, we could use a plotting library like **seaborn** to get a good visual of the sample frequency of our dataset."
   ]
  },
  {
   "cell_type": "code",
   "execution_count": 143,
   "id": "36d047d4",
   "metadata": {},
   "outputs": [
    {
     "data": {
      "text/plain": [
       "<AxesSubplot:xlabel='overall', ylabel='count'>"
      ]
     },
     "execution_count": 143,
     "metadata": {},
     "output_type": "execute_result"
    },
    {
     "data": {
      "image/png": "[encoded data removed]",
      "text/plain": [
       "<Figure size 432x288 with 1 Axes>"
      ]
     },
     "metadata": {
      "needs_background": "light"
     },
     "output_type": "display_data"
    }
   ],
   "source": [
    "sns.countplot(x=df_refined[\"overall\"])"
   ]
  },
  {
   "cell_type": "markdown",
   "id": "f3b293bb",
   "metadata": {},
   "source": [
    "From the visual above, we witness that the amount of 5 star products is much greater than that of the other ratings, resulting in an **imbalanced** dataset. An imbalanced dataset can lead to a machine learning phenomenon known as **overfitting**, wherein the model gets fed too many samples of one class, and ends up memorizing only the patterns associated with that class and nothing else. \n",
    "\n",
    "- We will later see how this data imbalance could potentially play a role in the model performance metrics after the testing phase."
   ]
  },
  {
   "cell_type": "markdown",
   "id": "6c6a2c84",
   "metadata": {},
   "source": [
    "### 4. Converting Numeric Ratings to Sentiment Categories\n",
    "\n",
    "- The ratings in the 'overall' column represent a discrete label that come under '1.0', '2.0', '3.0', '4.0', '5.0' classes. \n",
    "- As we are mostly interested in the **sentiment** of the product rather than the specific rating, we want to further simplify these labels into **'Positive' and 'Negative'** classes.\n",
    "- We use a conditional 'filter' to convert each rating to one of the aforementioned classes:\n",
    "    - 1.0, 2.0 are converted to 'Negative'\n",
    "    - 3.0, 4.0, and 5.0 are converted to 'Positive'"
   ]
  },
  {
   "cell_type": "code",
   "execution_count": 146,
   "id": "bb84cc98",
   "metadata": {},
   "outputs": [],
   "source": [
    "### Converting the rating labels\n",
    "df_refined['overall'] = np.where(df_refined['overall'] == '5.0', 'Positive', df_refined['overall'])\n",
    "df_refined['overall'] = np.where(df_refined['overall'] == '4.0', 'Positive', df_refined['overall'])\n",
    "df_refined['overall'] = np.where(df_refined['overall'] == '3.0', 'Positive', df_refined['overall'])\n",
    "\n",
    "df_refined['overall'] = np.where(df_refined['overall'] == '2.0', 'Negative', df_refined['overall'])\n",
    "df_refined['overall'] = np.where(df_refined['overall'] == '1.0', 'Negative', df_refined['overall'])"
   ]
  },
  {
   "cell_type": "code",
   "execution_count": 147,
   "id": "3bee4707",
   "metadata": {},
   "outputs": [
    {
     "data": {
      "text/html": [
       "<div>\n",
       "<style scoped>\n",
       "    .dataframe tbody tr th:only-of-type {\n",
       "        vertical-align: middle;\n",
       "    }\n",
       "\n",
       "    .dataframe tbody tr th {\n",
       "        vertical-align: top;\n",
       "    }\n",
       "\n",
       "    .dataframe thead th {\n",
       "        text-align: right;\n",
       "    }\n",
       "</style>\n",
       "<table border=\"1\" class=\"dataframe\">\n",
       "  <thead>\n",
       "    <tr style=\"text-align: right;\">\n",
       "      <th></th>\n",
       "      <th>overall</th>\n",
       "      <th>reviewText</th>\n",
       "    </tr>\n",
       "  </thead>\n",
       "  <tbody>\n",
       "    <tr>\n",
       "      <th>0</th>\n",
       "      <td>Positive</td>\n",
       "      <td>No issues.</td>\n",
       "    </tr>\n",
       "    <tr>\n",
       "      <th>1</th>\n",
       "      <td>Positive</td>\n",
       "      <td>Purchased this for my device, it worked as adv...</td>\n",
       "    </tr>\n",
       "    <tr>\n",
       "      <th>2</th>\n",
       "      <td>Positive</td>\n",
       "      <td>it works as expected. I should have sprung for...</td>\n",
       "    </tr>\n",
       "    <tr>\n",
       "      <th>3</th>\n",
       "      <td>Positive</td>\n",
       "      <td>This think has worked out great.Had a diff. br...</td>\n",
       "    </tr>\n",
       "    <tr>\n",
       "      <th>4</th>\n",
       "      <td>Positive</td>\n",
       "      <td>Bought it with Retail Packaging, arrived legit...</td>\n",
       "    </tr>\n",
       "    <tr>\n",
       "      <th>5</th>\n",
       "      <td>Positive</td>\n",
       "      <td>It's mini storage.  It doesn't do anything els...</td>\n",
       "    </tr>\n",
       "    <tr>\n",
       "      <th>6</th>\n",
       "      <td>Positive</td>\n",
       "      <td>I have it in my phone and it never skips a bea...</td>\n",
       "    </tr>\n",
       "    <tr>\n",
       "      <th>7</th>\n",
       "      <td>Positive</td>\n",
       "      <td>It's hard to believe how affordable digital ha...</td>\n",
       "    </tr>\n",
       "    <tr>\n",
       "      <th>8</th>\n",
       "      <td>Positive</td>\n",
       "      <td>Works in a HTC Rezound.  Was running short of ...</td>\n",
       "    </tr>\n",
       "    <tr>\n",
       "      <th>9</th>\n",
       "      <td>Positive</td>\n",
       "      <td>in my galaxy s4, super fast card, and am total...</td>\n",
       "    </tr>\n",
       "  </tbody>\n",
       "</table>\n",
       "</div>"
      ],
      "text/plain": [
       "    overall                                         reviewText\n",
       "0  Positive                                         No issues.\n",
       "1  Positive  Purchased this for my device, it worked as adv...\n",
       "2  Positive  it works as expected. I should have sprung for...\n",
       "3  Positive  This think has worked out great.Had a diff. br...\n",
       "4  Positive  Bought it with Retail Packaging, arrived legit...\n",
       "5  Positive  It's mini storage.  It doesn't do anything els...\n",
       "6  Positive  I have it in my phone and it never skips a bea...\n",
       "7  Positive  It's hard to believe how affordable digital ha...\n",
       "8  Positive  Works in a HTC Rezound.  Was running short of ...\n",
       "9  Positive  in my galaxy s4, super fast card, and am total..."
      ]
     },
     "execution_count": 147,
     "metadata": {},
     "output_type": "execute_result"
    }
   ],
   "source": [
    "df_refined.head(10)"
   ]
  },
  {
   "cell_type": "markdown",
   "id": "5fb1545d",
   "metadata": {},
   "source": [
    "### 5. Text Preprocessing\n",
    "\n",
    "In order to reduce bias, chances of overfitting and confusion within the models, we want to simplify the review text through:\n",
    "- Converting to lowercase\n",
    "- Removing stopwords such as 'the', 'a', 'an', 'in', 'on', etc. to reduce noise\n",
    "- Lemmatization/Stemming: Simplifying the word to its root. Example: 'Running' simplifies to the root word 'run'.\n",
    "- Removing punctuation through REGEX\n",
    "- tokenization: Splitting text into words\n",
    "\n",
    "Of course, there is no hard-and-fast rule as to how text should be preprocessed. In fact, it is very possible that not performing one or more of the aforementioned steps can lead to better results, depending on the problem."
   ]
  },
  {
   "cell_type": "markdown",
   "id": "2f8f69dd",
   "metadata": {},
   "source": [
    "### Importing NLTK stopwords and Lemmatization data\n",
    "Using the stopwords/Lemma in the NLTK database as a reference, we can simplify our review texts to reduce potential confusion/overfitting."
   ]
  },
  {
   "cell_type": "code",
   "execution_count": 148,
   "id": "5e87c663",
   "metadata": {},
   "outputs": [
    {
     "name": "stderr",
     "output_type": "stream",
     "text": [
      "[nltk_data] Downloading package stopwords to\n",
      "[nltk_data]     C:\\Users\\brown\\AppData\\Roaming\\nltk_data...\n",
      "[nltk_data]   Package stopwords is already up-to-date!\n",
      "[nltk_data] Downloading package wordnet to\n",
      "[nltk_data]     C:\\Users\\brown\\AppData\\Roaming\\nltk_data...\n",
      "[nltk_data]   Package wordnet is already up-to-date!\n",
      "[nltk_data] Downloading package omw-1.4 to\n",
      "[nltk_data]     C:\\Users\\brown\\AppData\\Roaming\\nltk_data...\n",
      "[nltk_data]   Package omw-1.4 is already up-to-date!\n"
     ]
    },
    {
     "data": {
      "text/plain": [
       "True"
      ]
     },
     "execution_count": 148,
     "metadata": {},
     "output_type": "execute_result"
    }
   ],
   "source": [
    "from nltk.stem import WordNetLemmatizer\n",
    "from nltk.tokenize import word_tokenize\n",
    "from nltk.corpus import stopwords\n",
    "nltk.download('stopwords')\n",
    "nltk.download('wordnet')\n",
    "nltk.download('omw-1.4')"
   ]
  },
  {
   "cell_type": "markdown",
   "id": "d65442ea",
   "metadata": {},
   "source": [
    "### Preprocessing begins\n",
    "\n",
    "- Now we perform the stopword/punctuation removal, along with lemmatization of the words.\n",
    "- This process may take a significant amount of time."
   ]
  },
  {
   "cell_type": "code",
   "execution_count": 149,
   "id": "e6086385",
   "metadata": {
    "scrolled": true
   },
   "outputs": [],
   "source": [
    "### Text Preprocessing\n",
    "df_refined['reviewText'] \n",
    "\n",
    "for i in range(len(df_refined['reviewText'])) :\n",
    "    review = df_refined.loc[i, 'reviewText']\n",
    "    review = review.lower() \n",
    "    review = re.sub(r'[^\\w\\s]', '', review)\n",
    "    tokenList = word_tokenize(review)\n",
    "    \n",
    "    ##Lemmatizer\n",
    "    lemmatizer = WordNetLemmatizer()\n",
    "    lemmatized_tokens = [lemmatizer.lemmatize(token) for token in tokenList]\n",
    "\n",
    "    tokenList2 = [word for word in lemmatized_tokens if not word in stopwords.words()]\n",
    "    df_refined.loc[i, 'reviewText'] = ' '.join(lemmatized_tokens)"
   ]
  },
  {
   "cell_type": "code",
   "execution_count": 150,
   "id": "d3f62c3f",
   "metadata": {},
   "outputs": [
    {
     "data": {
      "text/html": [
       "<div>\n",
       "<style scoped>\n",
       "    .dataframe tbody tr th:only-of-type {\n",
       "        vertical-align: middle;\n",
       "    }\n",
       "\n",
       "    .dataframe tbody tr th {\n",
       "        vertical-align: top;\n",
       "    }\n",
       "\n",
       "    .dataframe thead th {\n",
       "        text-align: right;\n",
       "    }\n",
       "</style>\n",
       "<table border=\"1\" class=\"dataframe\">\n",
       "  <thead>\n",
       "    <tr style=\"text-align: right;\">\n",
       "      <th></th>\n",
       "      <th>overall</th>\n",
       "      <th>reviewText</th>\n",
       "    </tr>\n",
       "  </thead>\n",
       "  <tbody>\n",
       "    <tr>\n",
       "      <th>0</th>\n",
       "      <td>Positive</td>\n",
       "      <td>no issue</td>\n",
       "    </tr>\n",
       "    <tr>\n",
       "      <th>1</th>\n",
       "      <td>Positive</td>\n",
       "      <td>purchased this for my device it worked a adver...</td>\n",
       "    </tr>\n",
       "    <tr>\n",
       "      <th>2</th>\n",
       "      <td>Positive</td>\n",
       "      <td>it work a expected i should have sprung for th...</td>\n",
       "    </tr>\n",
       "    <tr>\n",
       "      <th>3</th>\n",
       "      <td>Positive</td>\n",
       "      <td>this think ha worked out greathad a diff bran ...</td>\n",
       "    </tr>\n",
       "    <tr>\n",
       "      <th>4</th>\n",
       "      <td>Positive</td>\n",
       "      <td>bought it with retail packaging arrived legit ...</td>\n",
       "    </tr>\n",
       "    <tr>\n",
       "      <th>5</th>\n",
       "      <td>Positive</td>\n",
       "      <td>it mini storage it doesnt do anything else and...</td>\n",
       "    </tr>\n",
       "    <tr>\n",
       "      <th>6</th>\n",
       "      <td>Positive</td>\n",
       "      <td>i have it in my phone and it never skip a beat...</td>\n",
       "    </tr>\n",
       "    <tr>\n",
       "      <th>7</th>\n",
       "      <td>Positive</td>\n",
       "      <td>it hard to believe how affordable digital ha b...</td>\n",
       "    </tr>\n",
       "    <tr>\n",
       "      <th>8</th>\n",
       "      <td>Positive</td>\n",
       "      <td>work in a htc rezound wa running short of spac...</td>\n",
       "    </tr>\n",
       "    <tr>\n",
       "      <th>9</th>\n",
       "      <td>Positive</td>\n",
       "      <td>in my galaxy s4 super fast card and am totally...</td>\n",
       "    </tr>\n",
       "  </tbody>\n",
       "</table>\n",
       "</div>"
      ],
      "text/plain": [
       "    overall                                         reviewText\n",
       "0  Positive                                           no issue\n",
       "1  Positive  purchased this for my device it worked a adver...\n",
       "2  Positive  it work a expected i should have sprung for th...\n",
       "3  Positive  this think ha worked out greathad a diff bran ...\n",
       "4  Positive  bought it with retail packaging arrived legit ...\n",
       "5  Positive  it mini storage it doesnt do anything else and...\n",
       "6  Positive  i have it in my phone and it never skip a beat...\n",
       "7  Positive  it hard to believe how affordable digital ha b...\n",
       "8  Positive  work in a htc rezound wa running short of spac...\n",
       "9  Positive  in my galaxy s4 super fast card and am totally..."
      ]
     },
     "execution_count": 150,
     "metadata": {},
     "output_type": "execute_result"
    }
   ],
   "source": [
    "df_refined.head(10)"
   ]
  },
  {
   "cell_type": "markdown",
   "id": "38f75c6f",
   "metadata": {},
   "source": [
    "### Splitting the dataset into Training, Validation and Test sets\n",
    "\n",
    "- We use sklearn's **train_test_split** to achieve a 70/15/15 train-validation-test split on our dataset.\n",
    "- This means that 70% of the 4915 samples will be training samples, 15% for validation, and another 15% will be the unseen test samples.\n",
    "- Our feature will be the review text, while the labels will be the values in the 'overall' column."
   ]
  },
  {
   "cell_type": "code",
   "execution_count": 151,
   "id": "fa38c0a6",
   "metadata": {},
   "outputs": [],
   "source": [
    "from sklearn.model_selection import train_test_split\n",
    "X = df_refined['reviewText']\n",
    "y = df_refined['overall']\n",
    "\n",
    "X_train, X_test, y_train, y_test = train_test_split(X, y, test_size=0.3, random_state=1)\n",
    "X_train, X_val, y_train, y_val = train_test_split(X_train, y_train, test_size=0.5, random_state=1)"
   ]
  },
  {
   "cell_type": "markdown",
   "id": "17a0a12b",
   "metadata": {},
   "source": [
    "### 6. Vectorization: Bag of Words"
   ]
  },
  {
   "cell_type": "markdown",
   "id": "a8aaef1e",
   "metadata": {},
   "source": [
    "- As the reviews are written in natural human language, the words would need to be converted into numerical features for the model to understand. This process is also known as **vectorization**.\n",
    "\n",
    "- Several Vectorization techniques exist depending on the task at hand, considering factors like semantic context, position, frequency, connotation, etc. to convert each word into a unique vector.\n",
    "\n",
    "- For our task, the **Bag of Words (BOW)** model will be utilized for sentiment analysis. The BOW technique is a vectorization method that splits up each sentence or portion of text into a 'bag' of words, in which each word represents an individual feature of the produced vector. The frequency of each word within the text corresponds to the value within the vector itself.\n",
    "\n",
    "- We will use Sklearn's **CountVectorizer** function, which functions the same as a Bag of Words algorithm, to convert each sentence into vectors to be fed to the models.\n",
    "    - **NOTE**: When it comes to vectorization, the vectorizing model should only be fitted onto the training data, and NOT the test data. Since the test data is completely unknown to us and thus cannot be analyzed for numeric conversion by the model upon feeding, we vectorize the unseen data from the information the model has by fitting on the train data."
   ]
  },
  {
   "cell_type": "code",
   "execution_count": 152,
   "id": "244842c7",
   "metadata": {},
   "outputs": [],
   "source": [
    "from sklearn.feature_extraction.text import CountVectorizer"
   ]
  },
  {
   "cell_type": "code",
   "execution_count": 153,
   "id": "1a7d7576",
   "metadata": {},
   "outputs": [],
   "source": [
    "bow = CountVectorizer()\n",
    "bow.fit(X_train)\n",
    "\n",
    "training_data = bow.transform(X_train)\n",
    "val_data = bow.transform(X_val)\n",
    "test_data = bow.transform(X_test)"
   ]
  },
  {
   "cell_type": "markdown",
   "id": "9d09c223",
   "metadata": {},
   "source": [
    "## Machine Learning Models"
   ]
  },
  {
   "cell_type": "markdown",
   "id": "d365aa3a",
   "metadata": {},
   "source": [
    "### 7. Logistic Regression\n",
    "\n",
    "- Logistic regression is a statistical technique used to model the relationship between a binary dependent variable and one or more independent variables. It is a type of regression analysis commonly used in various fields, including business, medicine, psychology, and social sciences, to predict the probability of a certain event occurring.\n",
    "\n",
    "- The primary goal of logistic regression is to determine the relationship between the dependent variable (the output) and the independent variables (features) by estimating the probability of the dependent variable taking a certain value, given a specific set of values of the independent variables. The dependent variable in logistic regression is dichotomous, meaning that it can only take on two possible values, such as yes/no or success/failure.\n",
    "\n",
    "- Logistic regression uses a mathematical function called the **logistic function or sigmoid** function to model the relationship between the independent variables and the dependent variable. The output of the logistic regression model is a probability score ranging from 0 to 1, which represents the likelihood of the dependent variable taking a certain value.\n",
    "\n",
    "- Thus, despite the name implications, **Logistic Regression** is usually seen as a **classification model**.\n"
   ]
  },
  {
   "cell_type": "markdown",
   "id": "b33b18a9",
   "metadata": {},
   "source": [
    "#### Training the model"
   ]
  },
  {
   "cell_type": "code",
   "execution_count": 159,
   "id": "189beef6",
   "metadata": {},
   "outputs": [],
   "source": [
    "lr = LogisticRegression(penalty='l2', dual=False, tol=0.0001,\n",
    "                       C=1.0, fit_intercept=True, intercept_scaling=1, class_weight=None, random_state=None, solver='lbfgs',\n",
    "                       max_iter=100, multi_class='auto', verbose=0, warm_start=False, n_jobs=None, l1_ratio=None)\n",
    "lrFit = lr.fit(training_data, y_train)"
   ]
  },
  {
   "cell_type": "markdown",
   "id": "99e1e59c",
   "metadata": {},
   "source": [
    "#### Validating the model and analyzing the accuracy and precision metrics\n",
    "\n",
    "- **Accuracy**: A measure of the portion of correct prediction made on the dataset, compared to the original labelled data.\n",
    "- **Precision**: A measure of how close (or precise) the predictions are to each other."
   ]
  },
  {
   "cell_type": "code",
   "execution_count": 167,
   "id": "352db66b",
   "metadata": {},
   "outputs": [
    {
     "name": "stdout",
     "output_type": "stream",
     "text": [
      "Accuracy:  0.9436046511627907\n",
      "Precision:  0.9555961070559611\n"
     ]
    }
   ],
   "source": [
    "predictions = lrFit.predict(val_data)\n",
    "print('Accuracy: ' ,accuracy_score(y_val, predictions))\n",
    "print('Precision: ',precision_score(y_val,predictions, pos_label=\"Positive\"))"
   ]
  },
  {
   "cell_type": "markdown",
   "id": "a8ed413b",
   "metadata": {},
   "source": [
    "It seems that the metrics achieved on the validation set are high enough for us to move on to evaluating the test set performance."
   ]
  },
  {
   "cell_type": "markdown",
   "id": "3d1c0ed6",
   "metadata": {},
   "source": [
    "#### Test Set Performance"
   ]
  },
  {
   "cell_type": "code",
   "execution_count": 170,
   "id": "3a5467e1",
   "metadata": {},
   "outputs": [
    {
     "name": "stdout",
     "output_type": "stream",
     "text": [
      "Accuracy:  0.9532203389830508\n",
      "Precision:  0.9587412587412587\n"
     ]
    },
    {
     "data": {
      "text/plain": [
       "<sklearn.metrics._plot.confusion_matrix.ConfusionMatrixDisplay at 0x220cb9c8970>"
      ]
     },
     "execution_count": 170,
     "metadata": {},
     "output_type": "execute_result"
    },
    {
     "data": {
      "image/png": "[encoded data removed]",
      "text/plain": [
       "<Figure size 432x288 with 2 Axes>"
      ]
     },
     "metadata": {
      "needs_background": "light"
     },
     "output_type": "display_data"
    }
   ],
   "source": [
    "test_predictions = lrFit.predict(test_data)\n",
    "print('Accuracy: ' ,accuracy_score(y_test, test_predictions))\n",
    "print('Precision: ',precision_score(y_test , test_predictions, pos_label=\"Positive\"))\n",
    "\n",
    "cm = confusion_matrix(y_test, test_predictions, labels=lrFit.classes_)\n",
    "disp = ConfusionMatrixDisplay(confusion_matrix=cm, display_labels=lrFit.classes_)\n",
    "\n",
    "disp.plot()"
   ]
  },
  {
   "cell_type": "markdown",
   "id": "b860b96e",
   "metadata": {},
   "source": [
    "### 8. Naive Bayes and Gaussian Classifier"
   ]
  },
  {
   "cell_type": "markdown",
   "id": "1fac2679",
   "metadata": {},
   "source": [
    "- **Naive Bayes** is a simple and efficient algorithm that is commonly used in natural language processing, spam filtering, and sentiment analysis. It is based on the assumption that the presence or absence of a feature is independent of the presence or absence of any other feature, hence the term \"naive\". The algorithm calculates the probability of each class given the input features and selects the class with the highest probability as the output.\n",
    "\n",
    "- **Gaussian Classifier** is a type of Naive Bayes algorithm that assumes that the probability distribution of the input features is Gaussian (normal). This means that the algorithm assumes that the features follow a bell-shaped curve, which is a common assumption in many real-world scenarios. Gaussian Classifier is often used in image recognition and computer vision tasks, where the features can be represented as pixel values, and the assumption of Gaussian distribution can be reasonable.\n",
    "\n",
    "- The Gaussian Classifier calculates the mean and variance of each feature for each class and uses them to calculate the probability of each class given the input features. It assumes that the probability distribution of each feature in each class is Gaussian and calculates the probability of the feature given the class using the mean and variance of the feature in that class. The algorithm then multiplies the probabilities of all the features to calculate the probability of the input belonging to each class and selects the class with the highest probability as the output."
   ]
  },
  {
   "cell_type": "markdown",
   "id": "e66df079",
   "metadata": {},
   "source": [
    "#### Training the model"
   ]
  },
  {
   "cell_type": "code",
   "execution_count": 175,
   "id": "25e9aec9",
   "metadata": {},
   "outputs": [],
   "source": [
    "GB = GaussianNB()\n",
    "GBFit = GB.fit(training_data.toarray(), y_train)"
   ]
  },
  {
   "cell_type": "markdown",
   "id": "519a9560",
   "metadata": {},
   "source": [
    "#### Validation"
   ]
  },
  {
   "cell_type": "code",
   "execution_count": 176,
   "id": "27242181",
   "metadata": {},
   "outputs": [
    {
     "name": "stdout",
     "output_type": "stream",
     "text": [
      "Accuracy:  0.8180232558139535\n",
      "Precision:  0.9313593539703903\n"
     ]
    }
   ],
   "source": [
    "predictions = GBFit.predict(val_data.toarray())\n",
    "print('Accuracy: ' ,accuracy_score(y_val, predictions))\n",
    "print('Precision: ',precision_score(y_val,predictions, pos_label=\"Positive\"))"
   ]
  },
  {
   "cell_type": "markdown",
   "id": "7d9d59b7",
   "metadata": {},
   "source": [
    "#### Test Set Performance"
   ]
  },
  {
   "cell_type": "code",
   "execution_count": 178,
   "id": "6443bc32",
   "metadata": {},
   "outputs": [
    {
     "name": "stdout",
     "output_type": "stream",
     "text": [
      "Accuracy:  0.8264406779661017\n",
      "Precision:  0.935708752904725\n"
     ]
    },
    {
     "data": {
      "text/plain": [
       "<sklearn.metrics._plot.confusion_matrix.ConfusionMatrixDisplay at 0x220d6403400>"
      ]
     },
     "execution_count": 178,
     "metadata": {},
     "output_type": "execute_result"
    },
    {
     "data": {
      "image/png": "[encoded data removed]",
      "text/plain": [
       "<Figure size 432x288 with 2 Axes>"
      ]
     },
     "metadata": {
      "needs_background": "light"
     },
     "output_type": "display_data"
    }
   ],
   "source": [
    "test_predictions = GBFit.predict(test_data.toarray())\n",
    "print('Accuracy: ' ,accuracy_score(y_test, test_predictions))\n",
    "print('Precision: ',precision_score(y_test , test_predictions, pos_label=\"Positive\"))\n",
    "\n",
    "cm = confusion_matrix(y_test, test_predictions, labels=GBFit.classes_)\n",
    "disp = ConfusionMatrixDisplay(confusion_matrix=cm, display_labels=GBFit.classes_)\n",
    "\n",
    "disp.plot()"
   ]
  },
  {
   "cell_type": "markdown",
   "id": "de6eae6b",
   "metadata": {},
   "source": [
    "# FOOD FOR THOUGHT\n",
    "\n",
    "1. Looking at the confusion matrices above, do you think these results are a good indicator of the models' performance? Why or Why not?\n",
    "2. Search for alternative methods that are used to reduce overfitting and data imbalance.\n",
    "3. Could Logistic Regression and Gaussian classifier be used for Regression tasks?\n",
    "4. Compare and contrast the scores of the Log regression and Gaussian models. How could the Gaussian model's accuracy be improved?"
   ]
  },
  {
   "cell_type": "markdown",
   "id": "131c4bb4",
   "metadata": {},
   "source": [
    "# CONCLUSION\n",
    "\n",
    "By the end of this lesson, you have hopefully grasped some of the base concepts of the machine learning process. With this being the stepping stone to a much wider realm of knowledge, the next chapters will delve into the concepts of a more complex and powerful aspect of Artificial intelligence that focuses on trying to emulate the human brain itself: **Deep Learning**!"
   ]
  }
 ],
 "metadata": {
  "kernelspec": {
   "display_name": "Python 3 (ipykernel)",
   "language": "python",
   "name": "python3"
  },
  "language_info": {
   "codemirror_mode": {
    "name": "ipython",
    "version": 3
   },
   "file_extension": ".py",
   "mimetype": "text/x-python",
   "name": "python",
   "nbconvert_exporter": "python",
   "pygments_lexer": "ipython3",
   "version": "3.9.12"
  }
 },
 "nbformat": 4,
 "nbformat_minor": 5
}
